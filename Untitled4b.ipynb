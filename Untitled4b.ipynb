{
  "nbformat": 4,
  "nbformat_minor": 0,
  "metadata": {
    "colab": {
      "provenance": []
    },
    "kernelspec": {
      "name": "python3",
      "display_name": "Python 3"
    },
    "language_info": {
      "name": "python"
    }
  },
  "cells": [
    {
      "cell_type": "code",
      "source": [
        "compras = [\"maçã\", \"miojo\" , \"laranja\" , \"macarrão\" , \"maionese\" , \"chocolate\",[ \"salgadinho\", 'café', \"queijo\", \"oregano\", \"presunto\"], \"mostarda\", \"açucar\", \"pimenta\",'doce']\n",
        "print(compras)\n"
      ],
      "metadata": {
        "colab": {
          "base_uri": "https://localhost:8080/"
        },
        "id": "0eeCLDC37uZZ",
        "outputId": "141b2902-f448-474d-a0f8-39eb556d5efc"
      },
      "execution_count": 30,
      "outputs": [
        {
          "output_type": "stream",
          "name": "stdout",
          "text": [
            "['maçã', 'miojo', 'laranja', 'macarrão', 'maionese', 'chocolate', ['salgadinho', 'café', 'queijo', 'oregano', 'presunto'], 'mostarda', 'açucar', 'pimenta', 'doce']\n"
          ]
        }
      ]
    },
    {
      "cell_type": "code",
      "source": [
        "compras[2:4]= 'pitaya','ketchup'\n",
        "print(compras)"
      ],
      "metadata": {
        "colab": {
          "base_uri": "https://localhost:8080/"
        },
        "id": "0DMJfe5iAY5c",
        "outputId": "febd92c3-62ab-4322-b92e-0fab6a03771b"
      },
      "execution_count": 31,
      "outputs": [
        {
          "output_type": "stream",
          "name": "stdout",
          "text": [
            "['maçã', 'miojo', 'pitaya', 'ketchup', 'maionese', 'chocolate', ['salgadinho', 'café', 'queijo', 'oregano', 'presunto'], 'mostarda', 'açucar', 'pimenta', 'doce']\n"
          ]
        }
      ]
    },
    {
      "cell_type": "code",
      "source": [
        "compras.pop(1)\n",
        "compras.pop(3)\n",
        "compras.pop(7)\n",
        "compras\n"
      ],
      "metadata": {
        "colab": {
          "base_uri": "https://localhost:8080/"
        },
        "id": "MiamTyvrDEeV",
        "outputId": "2b9dd3e1-b344-49be-d727-9d49010978cf"
      },
      "execution_count": 32,
      "outputs": [
        {
          "output_type": "execute_result",
          "data": {
            "text/plain": [
              "['maçã',\n",
              " 'pitaya',\n",
              " 'ketchup',\n",
              " 'chocolate',\n",
              " ['salgadinho', 'café', 'queijo', 'oregano', 'presunto'],\n",
              " 'mostarda',\n",
              " 'açucar',\n",
              " 'doce']"
            ]
          },
          "metadata": {},
          "execution_count": 32
        }
      ]
    },
    {
      "cell_type": "code",
      "source": [
        "compras.insert(1,'amora')\n",
        "compras.insert(2,'molho')\n",
        "compras.insert(6,'trigo')\n",
        "compras"
      ],
      "metadata": {
        "colab": {
          "base_uri": "https://localhost:8080/"
        },
        "id": "hTtXkNGDEHL0",
        "outputId": "65e92ab5-038c-4e02-b8e7-887f0e95bb79"
      },
      "execution_count": 33,
      "outputs": [
        {
          "output_type": "execute_result",
          "data": {
            "text/plain": [
              "['maçã',\n",
              " 'amora',\n",
              " 'molho',\n",
              " 'pitaya',\n",
              " 'ketchup',\n",
              " 'chocolate',\n",
              " 'trigo',\n",
              " ['salgadinho', 'café', 'queijo', 'oregano', 'presunto'],\n",
              " 'mostarda',\n",
              " 'açucar',\n",
              " 'doce']"
            ]
          },
          "metadata": {},
          "execution_count": 33
        }
      ]
    },
    {
      "cell_type": "code",
      "source": [
        "compras[3]"
      ],
      "metadata": {
        "colab": {
          "base_uri": "https://localhost:8080/",
          "height": 35
        },
        "id": "3CCH8xGjJJwC",
        "outputId": "137a86a7-654c-4f4d-c9b7-261ec8558f21"
      },
      "execution_count": 35,
      "outputs": [
        {
          "output_type": "execute_result",
          "data": {
            "text/plain": [
              "'pitaya'"
            ],
            "application/vnd.google.colaboratory.intrinsic+json": {
              "type": "string"
            }
          },
          "metadata": {},
          "execution_count": 35
        }
      ]
    },
    {
      "cell_type": "code",
      "source": [
        "compras[5]"
      ],
      "metadata": {
        "colab": {
          "base_uri": "https://localhost:8080/",
          "height": 35
        },
        "id": "oPwxv_omLKxj",
        "outputId": "cd626213-212e-4884-99f2-3192524d8d5d"
      },
      "execution_count": 36,
      "outputs": [
        {
          "output_type": "execute_result",
          "data": {
            "text/plain": [
              "'chocolate'"
            ],
            "application/vnd.google.colaboratory.intrinsic+json": {
              "type": "string"
            }
          },
          "metadata": {},
          "execution_count": 36
        }
      ]
    },
    {
      "cell_type": "code",
      "source": [
        "len(compras)"
      ],
      "metadata": {
        "colab": {
          "base_uri": "https://localhost:8080/"
        },
        "id": "jAB9z22-LqtI",
        "outputId": "0c0dfb15-2c64-4f13-8cde-6aa77521ac26"
      },
      "execution_count": 37,
      "outputs": [
        {
          "output_type": "execute_result",
          "data": {
            "text/plain": [
              "11"
            ]
          },
          "metadata": {},
          "execution_count": 37
        }
      ]
    },
    {
      "cell_type": "code",
      "source": [
        "compras"
      ],
      "metadata": {
        "colab": {
          "base_uri": "https://localhost:8080/"
        },
        "id": "3WKtTFq_MO4B",
        "outputId": "5387ca4c-704a-48d8-a675-02b367ba6b53"
      },
      "execution_count": 38,
      "outputs": [
        {
          "output_type": "execute_result",
          "data": {
            "text/plain": [
              "['maçã',\n",
              " 'amora',\n",
              " 'molho',\n",
              " 'pitaya',\n",
              " 'ketchup',\n",
              " 'chocolate',\n",
              " 'trigo',\n",
              " ['salgadinho', 'café', 'queijo', 'oregano', 'presunto'],\n",
              " 'mostarda',\n",
              " 'açucar',\n",
              " 'doce']"
            ]
          },
          "metadata": {},
          "execution_count": 38
        }
      ]
    },
    {
      "cell_type": "code",
      "source": [
        "compras[7][0]"
      ],
      "metadata": {
        "colab": {
          "base_uri": "https://localhost:8080/",
          "height": 35
        },
        "id": "hMxnLJDxMsOB",
        "outputId": "34889aba-7755-4898-9143-ae497803d932"
      },
      "execution_count": 39,
      "outputs": [
        {
          "output_type": "execute_result",
          "data": {
            "text/plain": [
              "'salgadinho'"
            ],
            "application/vnd.google.colaboratory.intrinsic+json": {
              "type": "string"
            }
          },
          "metadata": {},
          "execution_count": 39
        }
      ]
    }
  ]
}